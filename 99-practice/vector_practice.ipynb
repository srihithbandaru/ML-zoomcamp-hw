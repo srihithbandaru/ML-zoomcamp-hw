{
 "cells": [
  {
   "cell_type": "code",
   "execution_count": 13,
   "id": "1b08f28c-bf2c-42cf-b387-0203183e13ac",
   "metadata": {},
   "outputs": [],
   "source": [
    "#Vector Vector Multiplication\n",
    "def vector_vector_multiplication(u, v):\n",
    "    assert u.shape[0] == v.shape[0] #Check if both vectors have same size\n",
    "\n",
    "    n = u.shape[0] #get size of vector\n",
    "\n",
    "    result=0\n",
    "    for i in range(n):\n",
    "        result = result + u[i] * v[i]\n",
    "\n",
    "    return result        "
   ]
  },
  {
   "cell_type": "code",
   "execution_count": 14,
   "id": "7544ee1a-cbed-4f21-87b5-219b29b845ab",
   "metadata": {},
   "outputs": [
    {
     "name": "stdout",
     "output_type": "stream",
     "text": [
      "14\n",
      "14\n"
     ]
    }
   ],
   "source": [
    "import numpy as np\n",
    "u = np.array([2, 4, 5, 6])\n",
    "v = np.array([1, 0, 0, 2])\n",
    "result = vector_vector_multiplication(u, v)\n",
    "print(result)\n",
    "print(np.dot(u, v)) #in-built numpy function"
   ]
  },
  {
   "cell_type": "code",
   "execution_count": 15,
   "id": "45036580-3fbe-4fc1-a131-b91b18f10485",
   "metadata": {},
   "outputs": [],
   "source": [
    "#Matrix vector Multiplication\n",
    "def matrix_vector_multiplication(U, v):\n",
    "    assert U.shape[1] == v.shape[0]\n",
    "\n",
    "    num_rows=U.shape[0]\n",
    "    result = np.zeros(num_rows)\n",
    "\n",
    "    for i in range(num_rows):\n",
    "        result[i] = vector_vector_multiplication(U[i], v)\n",
    "\n",
    "    return result"
   ]
  },
  {
   "cell_type": "code",
   "execution_count": 17,
   "id": "4793a585-6413-4975-8775-e4c449894e79",
   "metadata": {},
   "outputs": [],
   "source": [
    "#Matrix matrix multiplication\n",
    "def matrix_matrix_multiplication(U, V):\n",
    "    assert U.shape[1] == V.shape[0]\n",
    "\n",
    "    num_rows = U.shape[0]\n",
    "    num_cols = V.shape[1]\n",
    "\n",
    "    result = np.zeros((num_rows, num_Cols))\n",
    "\n",
    "    for i in range(num_cols):\n",
    "        vi = V[:, i]\n",
    "        Uvi = matrix_vector_multiplication(U, vi)\n",
    "        result[:, i] = Uvi\n",
    "\n",
    "    return result"
   ]
  },
  {
   "cell_type": "code",
   "execution_count": 18,
   "id": "63e3c275-f23f-42a7-a5b6-2a5e2df8531b",
   "metadata": {},
   "outputs": [
    {
     "name": "stdout",
     "output_type": "stream",
     "text": [
      "[14.  5.  5.]\n"
     ]
    }
   ],
   "source": [
    "U = np.array([\n",
    "    [2, 4, 5, 6],\n",
    "    [1, 2, 1, 2],\n",
    "    [3, 1, 2, 1]\n",
    "])\n",
    " \n",
    "v = np.array([1, 0, 0, 2])\n",
    " \n",
    "result = matrix_vector_multiplication(U, v)\n",
    "print(result)"
   ]
  },
  {
   "cell_type": "code",
   "execution_count": null,
   "id": "2f41b7ee-078e-4209-aa3d-3f13aa0b265b",
   "metadata": {},
   "outputs": [],
   "source": []
  }
 ],
 "metadata": {
  "kernelspec": {
   "display_name": "Python 3 (ipykernel)",
   "language": "python",
   "name": "python3"
  },
  "language_info": {
   "codemirror_mode": {
    "name": "ipython",
    "version": 3
   },
   "file_extension": ".py",
   "mimetype": "text/x-python",
   "name": "python",
   "nbconvert_exporter": "python",
   "pygments_lexer": "ipython3",
   "version": "3.12.1"
  }
 },
 "nbformat": 4,
 "nbformat_minor": 5
}
