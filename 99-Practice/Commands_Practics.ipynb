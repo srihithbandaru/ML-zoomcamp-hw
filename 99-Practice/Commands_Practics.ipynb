{
 "cells": [
  {
   "cell_type": "code",
   "execution_count": 2,
   "id": "c377ee71-e6f5-4449-afd8-269c9f3d37a9",
   "metadata": {},
   "outputs": [],
   "source": [
    "import numpy as np"
   ]
  },
  {
   "cell_type": "code",
   "execution_count": 3,
   "id": "4cb7cb2b-6afc-4977-9f62-d8ba47da5b9a",
   "metadata": {},
   "outputs": [],
   "source": [
    "my_list = [2, 3, 4]"
   ]
  },
  {
   "cell_type": "code",
   "execution_count": 4,
   "id": "312264c6-85de-4672-83a8-26baca7f6e07",
   "metadata": {},
   "outputs": [],
   "source": [
    "array_from_list = np.array(my_list)"
   ]
  },
  {
   "cell_type": "code",
   "execution_count": 5,
   "id": "4b46df41-ecf4-4e74-8a73-32c44e2c1d86",
   "metadata": {},
   "outputs": [
    {
     "name": "stdout",
     "output_type": "stream",
     "text": [
      "[2 3 4]\n"
     ]
    }
   ],
   "source": [
    "print(array_from_list)"
   ]
  },
  {
   "cell_type": "code",
   "execution_count": 6,
   "id": "18decf17-1393-4d8f-92dd-304453264a83",
   "metadata": {},
   "outputs": [],
   "source": [
    "range_array = np.arange(10)  # Creates an array from 0 to 9"
   ]
  },
  {
   "cell_type": "code",
   "execution_count": 7,
   "id": "0b0dc6e9-f790-4012-802d-0cfad32ab6d2",
   "metadata": {},
   "outputs": [
    {
     "name": "stdout",
     "output_type": "stream",
     "text": [
      "[0 1 2 3 4 5 6 7 8 9]\n"
     ]
    }
   ],
   "source": [
    "print(range_array)"
   ]
  },
  {
   "cell_type": "code",
   "execution_count": 8,
   "id": "7686e90f-79e6-40b4-92e9-773ba8bd0ee4",
   "metadata": {},
   "outputs": [],
   "source": [
    "linspace_array = np.linspace(0, 10, 10)  # Creates 11 numbers from 0 to 1"
   ]
  },
  {
   "cell_type": "code",
   "execution_count": 9,
   "id": "a4a051f5-6879-449a-b0a8-fc03dc9f903e",
   "metadata": {},
   "outputs": [
    {
     "name": "stdout",
     "output_type": "stream",
     "text": [
      "[ 0.          1.11111111  2.22222222  3.33333333  4.44444444  5.55555556\n",
      "  6.66666667  7.77777778  8.88888889 10.        ]\n"
     ]
    }
   ],
   "source": [
    "print(linspace_array)"
   ]
  },
  {
   "cell_type": "code",
   "execution_count": 10,
   "id": "fa9f659d-637a-4684-996d-f16f7aab0098",
   "metadata": {},
   "outputs": [],
   "source": [
    "#multi-dimensional arrays\n",
    "arr = np.array([[2, 3, 4], [4, 5, 6]])\n",
    "first_row = arr[0]      # Gets the first row\n",
    "first_col = arr[:, 0]  # Gets the first column"
   ]
  },
  {
   "cell_type": "code",
   "execution_count": 11,
   "id": "85a541b0-bf94-451e-8d99-c3e5574e27f5",
   "metadata": {},
   "outputs": [
    {
     "name": "stdout",
     "output_type": "stream",
     "text": [
      "[2 3 4] [2 4]\n"
     ]
    }
   ],
   "source": [
    "print(first_row, first_col)"
   ]
  },
  {
   "cell_type": "code",
   "execution_count": 22,
   "id": "4fcb51da-4fd9-4b1d-a684-3c9a9003be82",
   "metadata": {},
   "outputs": [
    {
     "name": "stdout",
     "output_type": "stream",
     "text": [
      "[7.71320643]\n"
     ]
    }
   ],
   "source": [
    "np.random.seed(10)  # Set the seed\n",
    "random_array = np.random.rand(1)  # Generates random numbers between 0 and 1\n",
    "print(random_array*10)"
   ]
  },
  {
   "cell_type": "code",
   "execution_count": 25,
   "id": "d06b0b7f-453d-42cb-81cb-3bbda9551690",
   "metadata": {},
   "outputs": [
    {
     "name": "stdout",
     "output_type": "stream",
     "text": [
      "[[ 6 85]\n",
      " [22 11]\n",
      " [12 92]\n",
      " [96 62]\n",
      " [57 79]]\n"
     ]
    }
   ],
   "source": [
    "normal_distribution = np.random.randn(5, 2)\n",
    "random_integers = np.random.randint(low=0, high=100, size=(5, 2))\n",
    "print(random_integers)"
   ]
  },
  {
   "cell_type": "code",
   "execution_count": 27,
   "id": "0a086e83-242d-4cf7-becd-cf0b1b86eda7",
   "metadata": {
    "scrolled": true
   },
   "outputs": [
    {
     "name": "stdout",
     "output_type": "stream",
     "text": [
      "[1. 1. 1. 1.] [3 3 3 3]\n",
      "[4. 4. 4. 4.] [0.33333333 0.33333333 0.33333333 0.33333333]\n"
     ]
    }
   ],
   "source": [
    "arr1 = np.ones(4)\n",
    "arr2 = np.full(4, 3)\n",
    "print(arr1, arr2)\n",
    "result1 = arr1 + arr2  # Element-wise addition\n",
    "result2 = arr1 / arr2  # Element-wise division\n",
    "print(result1, result2)"
   ]
  },
  {
   "cell_type": "code",
   "execution_count": 33,
   "id": "7414c341-7b70-4f58-a2f3-16794749f9e1",
   "metadata": {},
   "outputs": [
    {
     "name": "stdout",
     "output_type": "stream",
     "text": [
      "[4 5 6]\n"
     ]
    }
   ],
   "source": [
    "arr3 = [3, 4, 5, 6, 3, 2, 1]\n",
    "arr = np.array(arr3) #need to convert it into a numpy array so that, conditions would work. \n",
    "selected_elements = arr[arr > 3]\n",
    "print(selected_elements)"
   ]
  },
  {
   "cell_type": "code",
   "execution_count": 35,
   "id": "4e9210b2-f726-468d-b589-930738c927a3",
   "metadata": {},
   "outputs": [
    {
     "name": "stdout",
     "output_type": "stream",
     "text": [
      "[[ 6  8]\n",
      " [10 12]]\n",
      "[[ 5 12]\n",
      " [21 32]]\n"
     ]
    }
   ],
   "source": [
    "arr11 = np.array([[1, 2], [3, 4]])\n",
    "arr12 = np.array([[5, 6], [7, 8]])\n",
    "result = arr11 + arr12\n",
    "print (result)\n",
    "result = arr11 * arr12\n",
    "print (result)"
   ]
  },
  {
   "cell_type": "code",
   "execution_count": null,
   "id": "848cbff9-c6c9-49ab-a54c-5f5a2a0e51d8",
   "metadata": {},
   "outputs": [],
   "source": []
  }
 ],
 "metadata": {
  "kernelspec": {
   "display_name": "Python 3 (ipykernel)",
   "language": "python",
   "name": "python3"
  },
  "language_info": {
   "codemirror_mode": {
    "name": "ipython",
    "version": 3
   },
   "file_extension": ".py",
   "mimetype": "text/x-python",
   "name": "python",
   "nbconvert_exporter": "python",
   "pygments_lexer": "ipython3",
   "version": "3.12.1"
  }
 },
 "nbformat": 4,
 "nbformat_minor": 5
}
